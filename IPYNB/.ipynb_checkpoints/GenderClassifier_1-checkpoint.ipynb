{
 "cells": [
  {
   "cell_type": "code",
   "execution_count": 1,
   "metadata": {},
   "outputs": [],
   "source": [
    "import os\n",
    "model_script_file = os.path.join(os.path.pardir, 'model.py')"
   ]
  },
  {
   "cell_type": "code",
   "execution_count": 24,
   "metadata": {},
   "outputs": [
    {
     "name": "stdout",
     "output_type": "stream",
     "text": [
      "Overwriting ..\\model.py\n"
     ]
    }
   ],
   "source": [
    "%%writefile $model_script_file\n",
    "from sklearn import tree\n",
    "import pandas as pd\n",
    "import matplotlib.pyplot as plt\n",
    "from sklearn.model_selection import train_test_split \n",
    "from sklearn.metrics import accuracy_score\n",
    "#Import os package\n",
    "import os\n",
    "import pickle\n",
    "\n",
    "def read_data():\n",
    "    # set the path of the raw data\n",
    "    raw_file_path = os.path.join(os.path.pardir, 'data', 'raw')\n",
    "    raw_data_file_path = os.path.join(raw_file_path, 'gender_classification_data.xlsx')\n",
    "    raw_data = pd.read_excel(raw_data_file_path)\n",
    "    \n",
    "    return raw_data\n",
    "\n",
    "\n",
    "def  process_data(raw_data):\n",
    "            raw_data.loc[raw_data['Gender']=='Female', 'Shoe_Size'].mean()\n",
    "            raw_data.iloc[4:5, 2:3] = raw_data.iloc[4:5, 2:3].fillna(35)\n",
    "            raw_data.loc[raw_data['Height']==146, 'Weight']\n",
    "            raw_data.iloc[14:15, 1:2] = raw_data.iloc[14:15, 1:2].fillna(50)\n",
    "            raw_data.loc[raw_data['Height']==180, 'Shoe_Size'].mean()\n",
    "            raw_data.iloc[18:19, 2:3] = raw_data.iloc[18:19, 2:3].fillna(42)\n",
    "            raw_data.loc[raw_data['Height']==178, 'Weight'].mean()\n",
    "            raw_data.iloc[37:38, 1:2] = raw_data.iloc[37:38, 1:2].fillna(78)\n",
    "            \n",
    "            raw_data.loc[raw_data['Weight']>125, 'Weight']\n",
    "            raw_data.drop(raw_data.index[73], inplace = True)\n",
    "            \n",
    "            # Dropping redundant column\n",
    "            raw_data.drop(['Height Inches'], axis = 1, inplace=True)\n",
    "            return raw_data\n",
    "            \n",
    "def write_data(raw_data):\n",
    "            processed_data_path = os.path.join(os.path.pardir, 'data', 'processed')\n",
    "            write_processed_data_path = os.path.join(processed_data_path, 'processed_gender_classificaiton_data.xlsx')\n",
    "            raw_data.to_excel(write_processed_data_path, index=False)\n",
    "            processed_data = pd.read_excel(write_processed_data_path)\n",
    "            return processed_data\n",
    "\n",
    "def running_model(raw_data):\n",
    "            train, test = train_test_split(processed_data, test_size = 0.2)\n",
    "            features = ['Height', 'Weight', 'Shoe_Size']\n",
    "            X_train = train[features]\n",
    "            y_train = train['Gender']\n",
    "            X_test = test[features]\n",
    "            y_test = test['Gender']\n",
    "            # Creating the model\n",
    "            clf = tree.DecisionTreeClassifier()\n",
    "            # Training the model\n",
    "            clf = clf.fit(X_train, y_train)\n",
    "            # Saving model to disk\n",
    "            pickle.dump(clf, open('../model.pkl','wb'))\n",
    "            # Loading model to compare the results\n",
    "            model = pickle.load(open('../model.pkl','rb'))\n",
    "            print(model.predict(X_test))\n",
    "\n",
    "\n",
    "if __name__ == '__main__':\n",
    "                  raw_data = read_data()\n",
    "                  raw_data = process_data(raw_data)\n",
    "                  processed_data = write_data(raw_data)\n",
    "                  running_model(processed_data)"
   ]
  },
  {
   "cell_type": "code",
   "execution_count": 25,
   "metadata": {},
   "outputs": [
    {
     "name": "stderr",
     "output_type": "stream",
     "text": [
      "Traceback (most recent call last):\n",
      "  File \"..\\model.py\", line 65, in <module>\n",
      "    running_model(processed_data)\n",
      "  File \"..\\model.py\", line 57, in running_model\n",
      "    model = pickle.load(open('../model.pkl','rb'))\n",
      "FileNotFoundError: [Errno 2] No such file or directory: '../model.pkl'\n"
     ]
    }
   ],
   "source": [
    "!python $model_script_file"
   ]
  },
  {
   "cell_type": "code",
   "execution_count": null,
   "metadata": {},
   "outputs": [],
   "source": []
  }
 ],
 "metadata": {
  "kernelspec": {
   "display_name": "Python 3",
   "language": "python",
   "name": "python3"
  },
  "language_info": {
   "codemirror_mode": {
    "name": "ipython",
    "version": 3
   },
   "file_extension": ".py",
   "mimetype": "text/x-python",
   "name": "python",
   "nbconvert_exporter": "python",
   "pygments_lexer": "ipython3",
   "version": "3.7.3"
  }
 },
 "nbformat": 4,
 "nbformat_minor": 2
}
